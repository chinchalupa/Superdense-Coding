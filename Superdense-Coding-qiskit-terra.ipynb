{
 "cells": [
  {
   "cell_type": "code",
   "execution_count": 183,
   "metadata": {},
   "outputs": [],
   "source": [
    "import numpy as np\n",
    "from qiskit import QuantumCircuit, ClassicalRegister, QuantumRegister\n",
    "from qiskit import BasicAer, execute"
   ]
  },
  {
   "cell_type": "code",
   "execution_count": 184,
   "metadata": {},
   "outputs": [],
   "source": [
    "# The message to send\n",
    "sharedQubits = QuantumRegister(2, 'shared')\n",
    "\n",
    "encodedMessage = ClassicalRegister(2, 'em')\n",
    "\n",
    "# The qubits containing the classically encoded message\n",
    "messageQubits = QuantumRegister(2, 'cm')"
   ]
  },
  {
   "cell_type": "markdown",
   "metadata": {},
   "source": [
    "#### Encoding Layer\n",
    "\n",
    "Encodes the message into the bellState"
   ]
  },
  {
   "cell_type": "code",
   "execution_count": 194,
   "metadata": {},
   "outputs": [
    {
     "data": {
      "text/plain": [
       "<qiskit.extensions.standard.cz.CzGate at 0x1cf5c301908>"
      ]
     },
     "execution_count": 194,
     "metadata": {},
     "output_type": "execute_result"
    }
   ],
   "source": [
    "encodeCircuit = QuantumCircuit(encodedMessage, messageQubits, sharedQubits)\n",
    "encodeCircuit.x(messageQubits[0])\n",
    "\n",
    "encodeCircuit.h(sharedQubits[0])\n",
    "encodeCircuit.cx(sharedQubits[0], sharedQubits[1])\n",
    "\n",
    "# Measurement\n",
    "encodeCircuit.measure(messageQubits, encodedMessage)\n",
    "\n",
    "# Encoding\n",
    "encodeCircuit.cx(messageQubits[1], sharedQubits[0])\n",
    "encodeCircuit.cz(messageQubits[0], sharedQubits[0])"
   ]
  },
  {
   "cell_type": "markdown",
   "metadata": {},
   "source": [
    "#### Transfer Layer"
   ]
  },
  {
   "cell_type": "code",
   "execution_count": 195,
   "metadata": {},
   "outputs": [
    {
     "data": {
      "text/plain": [
       "<qiskit.extensions.standard.swap.SwapGate at 0x1cf5c2c2b00>"
      ]
     },
     "execution_count": 195,
     "metadata": {},
     "output_type": "execute_result"
    }
   ],
   "source": [
    "receiverQubit = QuantumRegister(1, 'r')\n",
    "\n",
    "transferLayerCircuit = QuantumCircuit(sharedQubits, receiverQubit)\n",
    "transferLayerCircuit.swap(sharedQubits[0], receiverQubit[0])"
   ]
  },
  {
   "cell_type": "code",
   "execution_count": 196,
   "metadata": {},
   "outputs": [
    {
     "data": {
      "text/plain": [
       "<qiskit.circuit.measure.Measure at 0x1cf5c301cc0>"
      ]
     },
     "execution_count": 196,
     "metadata": {},
     "output_type": "execute_result"
    }
   ],
   "source": [
    "# The receiving registers\n",
    "receivingRegisters = ClassicalRegister(2, 'mdec')\n",
    "\n",
    "decodeCircuit = QuantumCircuit(receiverQubit, sharedQubits, receivingRegisters)\n",
    "decodeCircuit.cx(receiverQubit[0], sharedQubits[1])\n",
    "decodeCircuit.h(receiverQubit[0])\n",
    "decodeCircuit.measure(receiverQubit[0], receivingRegisters[0])\n",
    "decodeCircuit.measure(sharedQubits[1], receivingRegisters[1])"
   ]
  },
  {
   "cell_type": "markdown",
   "metadata": {},
   "source": [
    "#### Visualization"
   ]
  },
  {
   "cell_type": "code",
   "execution_count": 197,
   "metadata": {},
   "outputs": [
    {
     "data": {
      "text/html": [
       "<pre style=\"word-wrap: normal;white-space: pre;line-height: 15px;\">                               ┌───┐┌─┐   \n",
       "    cm_0: |0>──────────────────┤ X ├┤M├─■─\n",
       "                       ┌─┐     └───┘└╥┘ │ \n",
       "    cm_1: |0>──────────┤M├──■────────╫──┼─\n",
       "             ┌───┐     └╥┘┌─┴─┐      ║  │ \n",
       "shared_0: |0>┤ H ├──■───╫─┤ X ├──────╫──■─\n",
       "             └───┘┌─┴─┐ ║ └───┘      ║    \n",
       "shared_1: |0>─────┤ X ├─╫────────────╫────\n",
       "                  └───┘ ║            ║    \n",
       "     em_0: 0 ═══════════╬════════════╩════\n",
       "                        ║                 \n",
       "     em_1: 0 ═══════════╩═════════════════\n",
       "                                          </pre>"
      ],
      "text/plain": [
       "<qiskit.tools.visualization._text.TextDrawing at 0x1cf5c2e0e48>"
      ]
     },
     "execution_count": 197,
     "metadata": {},
     "output_type": "execute_result"
    }
   ],
   "source": [
    "encodeCircuit.draw()"
   ]
  },
  {
   "cell_type": "code",
   "execution_count": 198,
   "metadata": {},
   "outputs": [
    {
     "data": {
      "text/html": [
       "<pre style=\"word-wrap: normal;white-space: pre;line-height: 15px;\">                \n",
       "shared_0: |0>─X─\n",
       "              │ \n",
       "shared_1: |0>─┼─\n",
       "              │ \n",
       "     r_0: |0>─X─\n",
       "                </pre>"
      ],
      "text/plain": [
       "<qiskit.tools.visualization._text.TextDrawing at 0x1cf5c301a20>"
      ]
     },
     "execution_count": 198,
     "metadata": {},
     "output_type": "execute_result"
    }
   ],
   "source": [
    "transferLayerCircuit.draw()"
   ]
  },
  {
   "cell_type": "code",
   "execution_count": 199,
   "metadata": {},
   "outputs": [
    {
     "data": {
      "text/html": [
       "<pre style=\"word-wrap: normal;white-space: pre;line-height: 15px;\">                     ┌───┐┌─┐\n",
       "     r_0: |0>──■─────┤ H ├┤M├\n",
       "               │     └───┘└╥┘\n",
       "shared_0: |0>──┼───────────╫─\n",
       "             ┌─┴─┐┌─┐      ║ \n",
       "shared_1: |0>┤ X ├┤M├──────╫─\n",
       "             └───┘└╥┘      ║ \n",
       "   mdec_0: 0 ══════╬═══════╩═\n",
       "                   ║         \n",
       "   mdec_1: 0 ══════╩═════════\n",
       "                             </pre>"
      ],
      "text/plain": [
       "<qiskit.tools.visualization._text.TextDrawing at 0x1cf5c301c88>"
      ]
     },
     "execution_count": 199,
     "metadata": {},
     "output_type": "execute_result"
    }
   ],
   "source": [
    "decodeCircuit.draw()"
   ]
  },
  {
   "cell_type": "code",
   "execution_count": 200,
   "metadata": {},
   "outputs": [
    {
     "data": {
      "text/html": [
       "<pre style=\"word-wrap: normal;white-space: pre;line-height: 15px;\">                               ┌───┐┌─┐                      \n",
       "    cm_0: |0>──────────────────┤ X ├┤M├─■────────────────────\n",
       "                       ┌─┐     └───┘└╥┘ │                    \n",
       "    cm_1: |0>──────────┤M├──■────────╫──┼────────────────────\n",
       "             ┌───┐     └╥┘┌─┴─┐      ║  │                    \n",
       "shared_0: |0>┤ H ├──■───╫─┤ X ├──────╫──■──X─────────────────\n",
       "             └───┘┌─┴─┐ ║ └───┘      ║     │ ┌───┐┌─┐        \n",
       "shared_1: |0>─────┤ X ├─╫────────────╫─────┼─┤ X ├┤M├────────\n",
       "                  └───┘ ║            ║     │ └─┬─┘└╥┘┌───┐┌─┐\n",
       "     r_0: |0>───────────╫────────────╫─────X───■───╫─┤ H ├┤M├\n",
       "                        ║            ║             ║ └───┘└╥┘\n",
       "     em_0: 0 ═══════════╬════════════╩═════════════╬═══════╬═\n",
       "                        ║                          ║       ║ \n",
       "     em_1: 0 ═══════════╩══════════════════════════╬═══════╬═\n",
       "                                                   ║       ║ \n",
       "   mdec_0: 0 ══════════════════════════════════════╬═══════╩═\n",
       "                                                   ║         \n",
       "   mdec_1: 0 ══════════════════════════════════════╩═════════\n",
       "                                                             </pre>"
      ],
      "text/plain": [
       "<qiskit.tools.visualization._text.TextDrawing at 0x1cf5c2e0438>"
      ]
     },
     "execution_count": 200,
     "metadata": {},
     "output_type": "execute_result"
    }
   ],
   "source": [
    "allCircuits = (encodeCircuit+transferLayerCircuit+decodeCircuit)\n",
    "allCircuits.draw()"
   ]
  },
  {
   "cell_type": "code",
   "execution_count": 201,
   "metadata": {},
   "outputs": [
    {
     "name": "stdout",
     "output_type": "stream",
     "text": [
      "{'01 01': 1024}\n"
     ]
    }
   ],
   "source": [
    "backend_sim = BasicAer.get_backend('qasm_simulator')\n",
    "result = execute(allCircuits, backend_sim).result()\n",
    "counts = result.get_counts(allCircuits)\n",
    "print(counts)"
   ]
  },
  {
   "cell_type": "code",
   "execution_count": null,
   "metadata": {},
   "outputs": [],
   "source": []
  },
  {
   "cell_type": "code",
   "execution_count": null,
   "metadata": {},
   "outputs": [],
   "source": []
  }
 ],
 "metadata": {
  "kernelspec": {
   "display_name": "Python 3",
   "language": "python",
   "name": "python3"
  },
  "language_info": {
   "codemirror_mode": {
    "name": "ipython",
    "version": 3
   },
   "file_extension": ".py",
   "mimetype": "text/x-python",
   "name": "python",
   "nbconvert_exporter": "python",
   "pygments_lexer": "ipython3",
   "version": "3.7.0"
  }
 },
 "nbformat": 4,
 "nbformat_minor": 2
}
