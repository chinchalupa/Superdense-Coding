{
 "cells": [
  {
   "cell_type": "code",
   "execution_count": 37,
   "metadata": {},
   "outputs": [],
   "source": [
    "import numpy as np\n",
    "from qiskit import QuantumCircuit, ClassicalRegister, QuantumRegister\n",
    "from qiskit import BasicAer, execute"
   ]
  },
  {
   "cell_type": "markdown",
   "metadata": {},
   "source": [
    "## Circuit Creation"
   ]
  },
  {
   "cell_type": "markdown",
   "metadata": {},
   "source": [
    "### Preperation\n",
    "Prepares a Bell-state by performing ($H\\otimes I$) on the first qubit and entangling it with the second qubit."
   ]
  },
  {
   "cell_type": "code",
   "execution_count": 38,
   "metadata": {},
   "outputs": [
    {
     "data": {
      "text/html": [
       "<pre style=\"word-wrap: normal;white-space: pre;line-height: 15px;\">               ┌───┐     \n",
       "encodeQ1_0: |0>┤ H ├──■──\n",
       "               └───┘┌─┴─┐\n",
       "encodeQ2_0: |0>─────┤ X ├\n",
       "                    └───┘</pre>"
      ],
      "text/plain": [
       "<qiskit.tools.visualization._text.TextDrawing at 0x1c35db8dfd0>"
      ]
     },
     "execution_count": 38,
     "metadata": {},
     "output_type": "execute_result"
    }
   ],
   "source": [
    "encodeQ1 = QuantumRegister(1, 'encodeQ1')\n",
    "encodeQ2 = QuantumRegister(1, 'encodeQ2')\n",
    "\n",
    "preperationCircuit = QuantumCircuit(encodeQ1, encodeQ2)\n",
    "preperationCircuit.h(encodeQ1)\n",
    "preperationCircuit.cx(encodeQ1, encodeQ2)\n",
    "preperationCircuit.draw()"
   ]
  },
  {
   "cell_type": "markdown",
   "metadata": {},
   "source": [
    "### Encode\n",
    "Encodes the message into the first Qubit. This is done via a controlled $X$ (NOT) Gate and $Z$ (Phase) Gate based on the message. This rotation changes the Bell-state such that when the qubit is sent, it can be recombined with the other encoding qubit via a controlled $X$ Gate to retrieve the message. "
   ]
  },
  {
   "cell_type": "code",
   "execution_count": 39,
   "metadata": {},
   "outputs": [
    {
     "data": {
      "text/html": [
       "<pre style=\"word-wrap: normal;white-space: pre;line-height: 15px;\">                       \n",
       "      cm_0: |0>──────■─\n",
       "                     │ \n",
       "      cm_1: |0>──■───┼─\n",
       "               ┌─┴─┐ │ \n",
       "encodeQ1_0: |0>┤ X ├─■─\n",
       "               └───┘   </pre>"
      ],
      "text/plain": [
       "<qiskit.tools.visualization._text.TextDrawing at 0x1c35da48320>"
      ]
     },
     "execution_count": 39,
     "metadata": {},
     "output_type": "execute_result"
    }
   ],
   "source": [
    "encodedMessage = ClassicalRegister(2, 'em')\n",
    "messageQubits = QuantumRegister(2, 'cm')\n",
    "\n",
    "encodeCircuit = QuantumCircuit(messageQubits, encodeQ1)\n",
    "\n",
    "# Encoding\n",
    "encodeCircuit.cx(messageQubits[1], encodeQ1)\n",
    "encodeCircuit.cz(messageQubits[0], encodeQ1)\n",
    "encodeCircuit.draw()"
   ]
  },
  {
   "cell_type": "markdown",
   "metadata": {},
   "source": [
    "### Input"
   ]
  },
  {
   "cell_type": "code",
   "execution_count": 40,
   "metadata": {},
   "outputs": [
    {
     "data": {
      "text/html": [
       "<pre style=\"word-wrap: normal;white-space: pre;line-height: 15px;\">            ┌─┐\n",
       "cm_0: |0>───┤M├\n",
       "         ┌─┐└╥┘\n",
       "cm_1: |0>┤M├─╫─\n",
       "         └╥┘ ║ \n",
       " em_0: 0 ═╬══╩═\n",
       "          ║    \n",
       " em_1: 0 ═╩════\n",
       "               </pre>"
      ],
      "text/plain": [
       "<qiskit.tools.visualization._text.TextDrawing at 0x1c35dcba748>"
      ]
     },
     "execution_count": 40,
     "metadata": {},
     "output_type": "execute_result"
    }
   ],
   "source": [
    "# Get sent classical message\n",
    "inputCircuit = QuantumCircuit(messageQubits, encodedMessage)\n",
    "inputCircuit.measure(messageQubits, encodedMessage)\n",
    "inputCircuit.draw()"
   ]
  },
  {
   "cell_type": "markdown",
   "metadata": {},
   "source": [
    "### Transfer\n",
    "This swap operation represents a transfer of quantum information from one information system to another."
   ]
  },
  {
   "cell_type": "code",
   "execution_count": 41,
   "metadata": {},
   "outputs": [
    {
     "data": {
      "text/html": [
       "<pre style=\"word-wrap: normal;white-space: pre;line-height: 15px;\">                  \n",
       "encodeQ1_0: |0>─X─\n",
       "                │ \n",
       "    swap_0: |0>─X─\n",
       "                  </pre>"
      ],
      "text/plain": [
       "<qiskit.tools.visualization._text.TextDrawing at 0x1c35dcd3f98>"
      ]
     },
     "execution_count": 41,
     "metadata": {},
     "output_type": "execute_result"
    }
   ],
   "source": [
    "swapQubit = QuantumRegister(1, 'swap')\n",
    "\n",
    "transferCircuit = QuantumCircuit(encodeQ1, swapQubit)\n",
    "transferCircuit.swap(encodeQ1, swapQubit)\n",
    "transferCircuit.draw()"
   ]
  },
  {
   "cell_type": "markdown",
   "metadata": {},
   "source": [
    "### Decode\n",
    "Decode the message using the prepared qubit and the newly arrived qubit."
   ]
  },
  {
   "cell_type": "code",
   "execution_count": 42,
   "metadata": {},
   "outputs": [
    {
     "data": {
      "text/html": [
       "<pre style=\"word-wrap: normal;white-space: pre;line-height: 15px;\">                    ┌───┐\n",
       "    swap_0: |0>──■──┤ H ├\n",
       "               ┌─┴─┐└───┘\n",
       "encodeQ2_0: |0>┤ X ├─────\n",
       "               └───┘     </pre>"
      ],
      "text/plain": [
       "<qiskit.tools.visualization._text.TextDrawing at 0x1c35dccd7f0>"
      ]
     },
     "execution_count": 42,
     "metadata": {},
     "output_type": "execute_result"
    }
   ],
   "source": [
    "decodeCircuit = QuantumCircuit(swapQubit, encodeQ2)\n",
    "decodeCircuit.cx(swapQubit, encodeQ2)\n",
    "decodeCircuit.h(swapQubit)\n",
    "decodeCircuit.draw()"
   ]
  },
  {
   "cell_type": "code",
   "execution_count": 43,
   "metadata": {},
   "outputs": [
    {
     "data": {
      "text/html": [
       "<pre style=\"word-wrap: normal;white-space: pre;line-height: 15px;\">                  ┌─┐\n",
       "    swap_0: |0>───┤M├\n",
       "               ┌─┐└╥┘\n",
       "encodeQ2_0: |0>┤M├─╫─\n",
       "               └╥┘ ║ \n",
       "   recreg_0: 0 ═╬══╩═\n",
       "                ║    \n",
       "   recreg_1: 0 ═╩════\n",
       "                     </pre>"
      ],
      "text/plain": [
       "<qiskit.tools.visualization._text.TextDrawing at 0x1c35dcbafd0>"
      ]
     },
     "execution_count": 43,
     "metadata": {},
     "output_type": "execute_result"
    }
   ],
   "source": [
    "receivingRegisters = ClassicalRegister(2, 'recreg')\n",
    "\n",
    "readCircuit = QuantumCircuit(swapQubit, encodeQ2, receivingRegisters)\n",
    "readCircuit.measure(swapQubit[0], receivingRegisters[0])\n",
    "readCircuit.measure(encodeQ2[0], receivingRegisters[1])\n",
    "readCircuit.draw()"
   ]
  },
  {
   "cell_type": "code",
   "execution_count": 44,
   "metadata": {},
   "outputs": [],
   "source": [
    "allCircuits = (preperationCircuit + inputCircuit + encodeCircuit + transferCircuit + decodeCircuit + readCircuit)\n",
    "\n",
    "def setupCircuit(message, messageQubits):\n",
    "    circuit = QuantumCircuit(messageQubits)\n",
    "    if message[0] is '1':\n",
    "        circuit.x(messageQubits[1])\n",
    "    if message[1] is '1':\n",
    "        circuit.x(messageQubits[0])\n",
    "    return circuit"
   ]
  },
  {
   "cell_type": "markdown",
   "metadata": {},
   "source": [
    "## Testing"
   ]
  },
  {
   "cell_type": "markdown",
   "metadata": {},
   "source": [
    "Test that the encoding circuit and the decoding circuit are decoupled from each other using num_tensor_factors to determine the number of subcircuits."
   ]
  },
  {
   "cell_type": "code",
   "execution_count": 45,
   "metadata": {},
   "outputs": [
    {
     "name": "stdout",
     "output_type": "stream",
     "text": [
      "Encode circuit and decode circuit are decoupled.\n"
     ]
    }
   ],
   "source": [
    "quantum_systems_count = 2\n",
    "try:\n",
    "    assert ((encodeCircuit + (decodeCircuit + readCircuit)).num_tensor_factors() == quantum_systems_count)\n",
    "    print(\"Encode circuit and decode circuit are decoupled.\")\n",
    "except:\n",
    "    print(\"Circuits overlap!\")"
   ]
  },
  {
   "cell_type": "code",
   "execution_count": 51,
   "metadata": {},
   "outputs": [
    {
     "name": "stdout",
     "output_type": "stream",
     "text": [
      "00 was sent successfully!\n",
      "01 was sent successfully!\n",
      "10 was sent successfully!\n",
      "11 was sent successfully!\n"
     ]
    }
   ],
   "source": [
    "backend_sim = BasicAer.get_backend('qasm_simulator')\n",
    "for case in ['00', '01', '10', '11']:\n",
    "    circuit = (setupCircuit(case, messageQubits) + preperationCircuit + inputCircuit + encodeCircuit + transferCircuit + decodeCircuit + readCircuit)\n",
    "\n",
    "    result = execute(circuit, backend_sim, shots=1).result()\n",
    "    counts = result.get_counts(circuit)\n",
    "    try:\n",
    "        assert (counts[f\"{case} {case}\"] == 1)\n",
    "        print (f\"{case} was sent successfully!\")\n",
    "    except:\n",
    "        print (f\"{case} got result {counts}\")"
   ]
  }
 ],
 "metadata": {
  "kernelspec": {
   "display_name": "Python 3",
   "language": "python",
   "name": "python3"
  },
  "language_info": {
   "codemirror_mode": {
    "name": "ipython",
    "version": 3
   },
   "file_extension": ".py",
   "mimetype": "text/x-python",
   "name": "python",
   "nbconvert_exporter": "python",
   "pygments_lexer": "ipython3",
   "version": "3.7.0"
  }
 },
 "nbformat": 4,
 "nbformat_minor": 2
}
