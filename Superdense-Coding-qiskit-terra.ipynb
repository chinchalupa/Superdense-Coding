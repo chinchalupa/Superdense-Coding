{
 "cells": [
  {
   "cell_type": "code",
   "execution_count": 133,
   "metadata": {},
   "outputs": [],
   "source": [
    "import numpy as np\n",
    "from qiskit import QuantumCircuit, ClassicalRegister, QuantumRegister\n",
    "from qiskit import BasicAer, execute"
   ]
  },
  {
   "cell_type": "markdown",
   "metadata": {},
   "source": [
    "## Circuit Creation"
   ]
  },
  {
   "cell_type": "markdown",
   "metadata": {},
   "source": [
    "### Preperation\n",
    "Prepares a Bell-state by performing ($H\\otimes I$) on the first qubit and entangling it with the second qubit."
   ]
  },
  {
   "cell_type": "code",
   "execution_count": 134,
   "metadata": {},
   "outputs": [
    {
     "data": {
      "text/plain": [
       "<qiskit.circuit.quantumcircuit.QuantumCircuit at 0x1db5830c278>"
      ]
     },
     "execution_count": 134,
     "metadata": {},
     "output_type": "execute_result"
    }
   ],
   "source": [
    "encodeQ1 = QuantumRegister(1, 'encodeQ1')\n",
    "encodeQ2 = QuantumRegister(1, 'encodeQ2')\n",
    "\n",
    "preperationCircuit = QuantumCircuit(encodeQ1, encodeQ2)\n",
    "preperationCircuit.h(encodeQ1)\n",
    "preperationCircuit.cx(encodeQ1, encodeQ2)\n",
    "preperationCircuit"
   ]
  },
  {
   "cell_type": "markdown",
   "metadata": {},
   "source": [
    "### Encode\n",
    "Encodes the message into the first Qubit. This is done via a controlled $X$ (NOT) Gate and $Z$ (Phase) Gate based on the message. This rotation changes the Bell-state such that when the qubit is sent, it can be recombined with the other encoding qubit via a controlled $X$ Gate to retrieve the message. "
   ]
  },
  {
   "cell_type": "code",
   "execution_count": 135,
   "metadata": {},
   "outputs": [
    {
     "data": {
      "text/plain": [
       "<qiskit.circuit.quantumcircuit.QuantumCircuit at 0x1db5830c588>"
      ]
     },
     "execution_count": 135,
     "metadata": {},
     "output_type": "execute_result"
    }
   ],
   "source": [
    "encodedMessage = ClassicalRegister(2, 'em')\n",
    "messageQubits = QuantumRegister(2, 'cm')\n",
    "\n",
    "encodeCircuit = QuantumCircuit(encodedMessage, messageQubits, encodeQ1)\n",
    "\n",
    "# Get sent classical message\n",
    "encodeCircuit.measure(messageQubits, encodedMessage)\n",
    "\n",
    "# Encoding\n",
    "encodeCircuit.cx(messageQubits[1], encodeQ1)\n",
    "encodeCircuit.cz(messageQubits[0], encodeQ1)\n",
    "encodeCircuit"
   ]
  },
  {
   "cell_type": "markdown",
   "metadata": {},
   "source": [
    "### Transfer\n",
    "This swap operation represents a transfer of quantum information from one information system to another."
   ]
  },
  {
   "cell_type": "code",
   "execution_count": 136,
   "metadata": {},
   "outputs": [
    {
     "data": {
      "text/plain": [
       "<qiskit.circuit.quantumcircuit.QuantumCircuit at 0x1db5821b5c0>"
      ]
     },
     "execution_count": 136,
     "metadata": {},
     "output_type": "execute_result"
    }
   ],
   "source": [
    "swapQubit = QuantumRegister(1, 'swap')\n",
    "\n",
    "transferCircuit = QuantumCircuit(encodeQ1, swapQubit)\n",
    "transferCircuit.swap(encodeQ1, swapQubit)\n",
    "transferCircuit"
   ]
  },
  {
   "cell_type": "markdown",
   "metadata": {},
   "source": [
    "### Decode\n",
    "Decode the message using the prepared qubit and the newly arrived qubit."
   ]
  },
  {
   "cell_type": "code",
   "execution_count": 137,
   "metadata": {},
   "outputs": [
    {
     "data": {
      "text/plain": [
       "<qiskit.circuit.instructionset.InstructionSet at 0x1db5821b160>"
      ]
     },
     "execution_count": 137,
     "metadata": {},
     "output_type": "execute_result"
    }
   ],
   "source": [
    "decodeCircuit = QuantumCircuit(swapQubit, encodeQ2)\n",
    "decodeCircuit.cx(swapQubit, encodeQ2)\n",
    "decodeCircuit.h(swapQubit)"
   ]
  },
  {
   "cell_type": "code",
   "execution_count": 138,
   "metadata": {},
   "outputs": [
    {
     "data": {
      "text/plain": [
       "<qiskit.circuit.quantumcircuit.QuantumCircuit at 0x1db5830dc18>"
      ]
     },
     "execution_count": 138,
     "metadata": {},
     "output_type": "execute_result"
    }
   ],
   "source": [
    "receivingRegisters = ClassicalRegister(2, 'recreg')\n",
    "\n",
    "readCircuit = QuantumCircuit(swapQubit, encodeQ2, receivingRegisters)\n",
    "readCircuit.measure(swapQubit[0], receivingRegisters[0])\n",
    "readCircuit.measure(encodeQ2[0], receivingRegisters[1])\n",
    "readCircuit"
   ]
  },
  {
   "cell_type": "markdown",
   "metadata": {},
   "source": [
    "## Visualization"
   ]
  },
  {
   "cell_type": "markdown",
   "metadata": {},
   "source": [
    "### Preperation Analysis"
   ]
  },
  {
   "cell_type": "code",
   "execution_count": 139,
   "metadata": {},
   "outputs": [
    {
     "data": {
      "text/html": [
       "<pre style=\"word-wrap: normal;white-space: pre;line-height: 15px;\">               ┌───┐     \n",
       "encodeQ1_0: |0>┤ H ├──■──\n",
       "               └───┘┌─┴─┐\n",
       "encodeQ2_0: |0>─────┤ X ├\n",
       "                    └───┘</pre>"
      ],
      "text/plain": [
       "<qiskit.tools.visualization._text.TextDrawing at 0x1db5821b630>"
      ]
     },
     "execution_count": 139,
     "metadata": {},
     "output_type": "execute_result"
    }
   ],
   "source": [
    "preperationCircuit.draw()"
   ]
  },
  {
   "cell_type": "code",
   "execution_count": 140,
   "metadata": {},
   "outputs": [
    {
     "data": {
      "text/html": [
       "<pre style=\"word-wrap: normal;white-space: pre;line-height: 15px;\">                       ┌─┐   \n",
       "      cm_0: |0>────────┤M├─■─\n",
       "               ┌─┐     └╥┘ │ \n",
       "      cm_1: |0>┤M├──■───╫──┼─\n",
       "               └╥┘┌─┴─┐ ║  │ \n",
       "encodeQ1_0: |0>─╫─┤ X ├─╫──■─\n",
       "                ║ └───┘ ║    \n",
       "       em_0: 0 ═╬═══════╩════\n",
       "                ║            \n",
       "       em_1: 0 ═╩════════════\n",
       "                             </pre>"
      ],
      "text/plain": [
       "<qiskit.tools.visualization._text.TextDrawing at 0x1db5830ce48>"
      ]
     },
     "execution_count": 140,
     "metadata": {},
     "output_type": "execute_result"
    }
   ],
   "source": [
    "encodeCircuit.draw()"
   ]
  },
  {
   "cell_type": "code",
   "execution_count": 141,
   "metadata": {},
   "outputs": [
    {
     "data": {
      "text/html": [
       "<pre style=\"word-wrap: normal;white-space: pre;line-height: 15px;\">                  \n",
       "encodeQ1_0: |0>─X─\n",
       "                │ \n",
       "    swap_0: |0>─X─\n",
       "                  </pre>"
      ],
      "text/plain": [
       "<qiskit.tools.visualization._text.TextDrawing at 0x1db58347668>"
      ]
     },
     "execution_count": 141,
     "metadata": {},
     "output_type": "execute_result"
    }
   ],
   "source": [
    "transferCircuit.draw()"
   ]
  },
  {
   "cell_type": "code",
   "execution_count": 142,
   "metadata": {},
   "outputs": [
    {
     "data": {
      "text/html": [
       "<pre style=\"word-wrap: normal;white-space: pre;line-height: 15px;\">                    ┌───┐\n",
       "    swap_0: |0>──■──┤ H ├\n",
       "               ┌─┴─┐└───┘\n",
       "encodeQ2_0: |0>┤ X ├─────\n",
       "               └───┘     </pre>"
      ],
      "text/plain": [
       "<qiskit.tools.visualization._text.TextDrawing at 0x1db583354e0>"
      ]
     },
     "execution_count": 142,
     "metadata": {},
     "output_type": "execute_result"
    }
   ],
   "source": [
    "decodeCircuit.draw()"
   ]
  },
  {
   "cell_type": "code",
   "execution_count": 143,
   "metadata": {},
   "outputs": [
    {
     "data": {
      "text/html": [
       "<pre style=\"word-wrap: normal;white-space: pre;line-height: 15px;\">                  ┌─┐\n",
       "    swap_0: |0>───┤M├\n",
       "               ┌─┐└╥┘\n",
       "encodeQ2_0: |0>┤M├─╫─\n",
       "               └╥┘ ║ \n",
       "   recreg_0: 0 ═╬══╩═\n",
       "                ║    \n",
       "   recreg_1: 0 ═╩════\n",
       "                     </pre>"
      ],
      "text/plain": [
       "<qiskit.tools.visualization._text.TextDrawing at 0x1db58335b00>"
      ]
     },
     "execution_count": 143,
     "metadata": {},
     "output_type": "execute_result"
    }
   ],
   "source": [
    "readCircuit.draw()"
   ]
  },
  {
   "cell_type": "code",
   "execution_count": 149,
   "metadata": {},
   "outputs": [
    {
     "data": {
      "text/plain": [
       "{'measure': 4, 'h': 2, 'cx': 3, 'cz': 1, 'swap': 1}"
      ]
     },
     "execution_count": 149,
     "metadata": {},
     "output_type": "execute_result"
    }
   ],
   "source": [
    "allCircuits = (preperationCircuit + encodeCircuit + transferCircuit + decodeCircuit + readCircuit)\n",
    "allCircuits.count_ops()"
   ]
  },
  {
   "cell_type": "code",
   "execution_count": 153,
   "metadata": {},
   "outputs": [
    {
     "data": {
      "text/plain": [
       "2"
      ]
     },
     "execution_count": 153,
     "metadata": {},
     "output_type": "execute_result"
    }
   ],
   "source": [
    "(encodeCircuit + (decodeCircuit + readCircuit)).num_tensor_factors()"
   ]
  },
  {
   "cell_type": "code",
   "execution_count": 145,
   "metadata": {},
   "outputs": [
    {
     "name": "stdout",
     "output_type": "stream",
     "text": [
      "Result(backend_name='qasm_simulator', backend_version='2.0.0', header=Obj(backend_name='qasm_simulator'), job_id='54eceac8-2fc6-45cc-8371-42bf8d626ddf', qobj_id='8f48d5ba-0c22-40b5-8bbf-2dd8dd6d0382', results=[ExperimentResult(data=ExperimentResultData(counts=Obj(0x0=1024)), header=Obj(clbit_labels=[['em', 0], ['em', 1], ['recreg', 0], ['recreg', 1]], compiled_circuit_qasm='OPENQASM 2.0;\\ninclude \"qelib1.inc\";\\nqreg encodeQ1[1];\\nqreg encodeQ2[1];\\nqreg cm[2];\\nqreg swap[1];\\ncreg em[2];\\ncreg recreg[2];\\nmeasure cm[1] -> em[1];\\nmeasure cm[0] -> em[0];\\nu2(0,pi) encodeQ1[0];\\ncx encodeQ1[0],encodeQ2[0];\\ncx cm[1],encodeQ1[0];\\nu2(0,pi) encodeQ1[0];\\ncx cm[0],encodeQ1[0];\\nu2(0,pi) encodeQ1[0];\\ncx encodeQ1[0],swap[0];\\ncx swap[0],encodeQ1[0];\\ncx encodeQ1[0],swap[0];\\ncx swap[0],encodeQ2[0];\\nu2(0,pi) swap[0];\\nmeasure swap[0] -> recreg[0];\\nmeasure encodeQ2[0] -> recreg[1];\\n', creg_sizes=[['em', 2], ['recreg', 2]], memory_slots=4, n_qubits=5, name='circuit97', qreg_sizes=[['encodeQ1', 1], ['encodeQ2', 1], ['cm', 2], ['swap', 1]], qubit_labels=[['encodeQ1', 0], ['encodeQ2', 0], ['cm', 0], ['cm', 1], ['swap', 0]]), name='circuit97', seed=1054437687, shots=1024, status='DONE', success=True, time_taken=0.5154621601104736)], status='COMPLETED', success=True, time_taken=0.5154621601104736)\n",
      "{'00 00': 1024}\n"
     ]
    }
   ],
   "source": [
    "backend_sim = BasicAer.get_backend('qasm_simulator')\n",
    "result = execute(allCircuits, backend_sim).result()\n",
    "print(result)\n",
    "counts = result.get_counts(allCircuits)\n",
    "print(counts)"
   ]
  },
  {
   "cell_type": "code",
   "execution_count": null,
   "metadata": {},
   "outputs": [],
   "source": []
  },
  {
   "cell_type": "code",
   "execution_count": null,
   "metadata": {},
   "outputs": [],
   "source": []
  }
 ],
 "metadata": {
  "kernelspec": {
   "display_name": "Python 3",
   "language": "python",
   "name": "python3"
  },
  "language_info": {
   "codemirror_mode": {
    "name": "ipython",
    "version": 3
   },
   "file_extension": ".py",
   "mimetype": "text/x-python",
   "name": "python",
   "nbconvert_exporter": "python",
   "pygments_lexer": "ipython3",
   "version": "3.7.0"
  }
 },
 "nbformat": 4,
 "nbformat_minor": 2
}
